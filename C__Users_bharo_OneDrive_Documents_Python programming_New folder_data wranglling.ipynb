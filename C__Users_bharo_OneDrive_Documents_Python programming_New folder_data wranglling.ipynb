{
 "cells": [
  {
   "cell_type": "markdown",
   "id": "b5f6ad77",
   "metadata": {},
   "source": [
    "## The vector a holds the squares of integers 0 to n; for instance, if n is equal to 3, a contains 0, 1, or 4. The vector b holds the cubes of integers 0 to n, so if n is equal is 3, then the vector b is equal to 0, 1, or 8. How would you solve using python and then how would you solve using NumPy?"
   ]
  },
  {
   "cell_type": "code",
   "execution_count": 1,
   "id": "4e845e49",
   "metadata": {},
   "outputs": [
    {
     "name": "stdout",
     "output_type": "stream",
     "text": [
      "Squared List: [0, 1, 4, 9, 16, 25, 36, 49, 64, 81]\n",
      "Cubed List:  [0, 1, 8, 27, 64, 125, 216, 343, 512, 729]\n"
     ]
    }
   ],
   "source": [
    "# 1 Vector squared and cubed\n",
    "\n",
    "import numpy as np\n",
    "\n",
    "n = 10\n",
    "\n",
    "# Number squared\n",
    "n_range = list((range(n)))\n",
    "a = [pow(i,2)for i in n_range]\n",
    "\n",
    "print(\"Squared List:\",a)\n",
    "\n",
    "# Number cubed\n",
    "n_range = list((range(n)))\n",
    "a = [pow(i,3)for i in n_range]\n",
    "\n",
    "print(\"Cubed List: \", a)"
   ]
  },
  {
   "cell_type": "code",
   "execution_count": 2,
   "id": "61a6c5b6",
   "metadata": {},
   "outputs": [
    {
     "name": "stdout",
     "output_type": "stream",
     "text": [
      "[ 0  1  4  9 16 25 36 49 64 81] \n",
      " [  0   1   8  27  64 125 216 343 512 729]\n"
     ]
    }
   ],
   "source": [
    "# Squaring and Cubing using numpy\n",
    "\n",
    "np_range = np.arange(n)\n",
    "np_squared = np.power(np_range,2)\n",
    "np_cubed = np.power(np_range,3)\n",
    "print(np_squared,'\\n', np_cubed)"
   ]
  },
  {
   "cell_type": "markdown",
   "id": "b7b1acab",
   "metadata": {},
   "source": [
    "## Load the iris dataset, print a description of the dataset, and plot column 1 (sepal length) as x and column 2 (sepal width) as y (Hint: See GitHub Repo for the book, Chapter01 > ch-01.ipynb – make sure you include comments in your code)."
   ]
  },
  {
   "cell_type": "code",
   "execution_count": 4,
   "id": "8a5d1ff6",
   "metadata": {},
   "outputs": [
    {
     "name": "stdout",
     "output_type": "stream",
     "text": [
      ".. _iris_dataset:\n",
      "\n",
      "Iris plants dataset\n",
      "--------------------\n",
      "\n",
      "**Data Set Characteristics:**\n",
      "\n",
      "    :Number of Instances: 150 (50 in each of three classes)\n",
      "    :Number of Attributes: 4 numeric, predictive attributes and the class\n",
      "    :Attribute Information:\n",
      "        - sepal length in cm\n",
      "        - sepal width in cm\n",
      "        - petal length in cm\n",
      "        - petal width in cm\n",
      "        - class:\n",
      "                - Iris-Setosa\n",
      "                - Iris-Versicolour\n",
      "                - Iris-Virginica\n",
      "                \n",
      "    :Summary Statistics:\n",
      "\n",
      "    ============== ==== ==== ======= ===== ====================\n",
      "                    Min  Max   Mean    SD   Class Correlation\n",
      "    ============== ==== ==== ======= ===== ====================\n",
      "    sepal length:   4.3  7.9   5.84   0.83    0.7826\n",
      "    sepal width:    2.0  4.4   3.05   0.43   -0.4194\n",
      "    petal length:   1.0  6.9   3.76   1.76    0.9490  (high!)\n",
      "    petal width:    0.1  2.5   1.20   0.76    0.9565  (high!)\n",
      "    ============== ==== ==== ======= ===== ====================\n",
      "\n",
      "    :Missing Attribute Values: None\n",
      "    :Class Distribution: 33.3% for each of 3 classes.\n",
      "    :Creator: R.A. Fisher\n",
      "    :Donor: Michael Marshall (MARSHALL%PLU@io.arc.nasa.gov)\n",
      "    :Date: July, 1988\n",
      "\n",
      "The famous Iris database, first used by Sir R.A. Fisher. The dataset is taken\n",
      "from Fisher's paper. Note that it's the same as in R, but not as in the UCI\n",
      "Machine Learning Repository, which has two wrong data points.\n",
      "\n",
      "This is perhaps the best known database to be found in the\n",
      "pattern recognition literature.  Fisher's paper is a classic in the field and\n",
      "is referenced frequently to this day.  (See Duda & Hart, for example.)  The\n",
      "data set contains 3 classes of 50 instances each, where each class refers to a\n",
      "type of iris plant.  One class is linearly separable from the other 2; the\n",
      "latter are NOT linearly separable from each other.\n",
      "\n",
      ".. topic:: References\n",
      "\n",
      "   - Fisher, R.A. \"The use of multiple measurements in taxonomic problems\"\n",
      "     Annual Eugenics, 7, Part II, 179-188 (1936); also in \"Contributions to\n",
      "     Mathematical Statistics\" (John Wiley, NY, 1950).\n",
      "   - Duda, R.O., & Hart, P.E. (1973) Pattern Classification and Scene Analysis.\n",
      "     (Q327.D83) John Wiley & Sons.  ISBN 0-471-22361-1.  See page 218.\n",
      "   - Dasarathy, B.V. (1980) \"Nosing Around the Neighborhood: A New System\n",
      "     Structure and Classification Rule for Recognition in Partially Exposed\n",
      "     Environments\".  IEEE Transactions on Pattern Analysis and Machine\n",
      "     Intelligence, Vol. PAMI-2, No. 1, 67-71.\n",
      "   - Gates, G.W. (1972) \"The Reduced Nearest Neighbor Rule\".  IEEE Transactions\n",
      "     on Information Theory, May 1972, 431-433.\n",
      "   - See also: 1988 MLC Proceedings, 54-64.  Cheeseman et al\"s AUTOCLASS II\n",
      "     conceptual clustering system finds 3 classes in the data.\n",
      "   - Many, many more ...\n"
     ]
    },
    {
     "data": {
      "image/png": "[encoded data removed]",
      "text/plain": [
       "<Figure size 640x480 with 1 Axes>"
      ]
     },
     "metadata": {},
     "output_type": "display_data"
    }
   ],
   "source": [
    "#2 Loading iris dataset\n",
    "\n",
    "import numpy as np\n",
    "from sklearn.datasets import load_iris\n",
    "from matplotlib import pyplot as plt\n",
    "\n",
    "# iris description\n",
    "\n",
    "iris = load_iris()\n",
    "\n",
    "print(iris.DESCR)\n",
    "\n",
    "# fetch data\n",
    "data = iris.data\n",
    "\n",
    "# plot sepal length and width chart\n",
    "\n",
    "plt.plot(data[:,0],data[:,1],\".\")\n",
    "plt.title(\"Iris Dataset\")  # title\n",
    "plt.xlabel(\"sepal length\") # x label\n",
    "plt.ylabel(\"sepal width\") # y label\n",
    "plt.show()"
   ]
  },
  {
   "cell_type": "markdown",
   "id": "881f0879",
   "metadata": {},
   "source": [
    "## Load the boston dataset, print the description of the dataset and plot column 3 (proportion of non-retail business) as x and column 5 (nitric oxide concentration) as y, with each point on the plot marked with a + sign (Hint: See GitHub Repo for the book, Chapter01 > ch-01.ipynb – make sure you include comments in your code)."
   ]
  },
  {
   "cell_type": "code",
   "execution_count": 5,
   "id": "345f018e",
   "metadata": {},
   "outputs": [
    {
     "name": "stdout",
     "output_type": "stream",
     "text": [
      ".. _boston_dataset:\n",
      "\n",
      "Boston house prices dataset\n",
      "---------------------------\n",
      "\n",
      "**Data Set Characteristics:**  \n",
      "\n",
      "    :Number of Instances: 506 \n",
      "\n",
      "    :Number of Attributes: 13 numeric/categorical predictive. Median Value (attribute 14) is usually the target.\n",
      "\n",
      "    :Attribute Information (in order):\n",
      "        - CRIM     per capita crime rate by town\n",
      "        - ZN       proportion of residential land zoned for lots over 25,000 sq.ft.\n",
      "        - INDUS    proportion of non-retail business acres per town\n",
      "        - CHAS     Charles River dummy variable (= 1 if tract bounds river; 0 otherwise)\n",
      "        - NOX      nitric oxides concentration (parts per 10 million)\n",
      "        - RM       average number of rooms per dwelling\n",
      "        - AGE      proportion of owner-occupied units built prior to 1940\n",
      "        - DIS      weighted distances to five Boston employment centres\n",
      "        - RAD      index of accessibility to radial highways\n",
      "        - TAX      full-value property-tax rate per $10,000\n",
      "        - PTRATIO  pupil-teacher ratio by town\n",
      "        - B        1000(Bk - 0.63)^2 where Bk is the proportion of black people by town\n",
      "        - LSTAT    % lower status of the population\n",
      "        - MEDV     Median value of owner-occupied homes in $1000's\n",
      "\n",
      "    :Missing Attribute Values: None\n",
      "\n",
      "    :Creator: Harrison, D. and Rubinfeld, D.L.\n",
      "\n",
      "This is a copy of UCI ML housing dataset.\n",
      "https://archive.ics.uci.edu/ml/machine-learning-databases/housing/\n",
      "\n",
      "\n",
      "This dataset was taken from the StatLib library which is maintained at Carnegie Mellon University.\n",
      "\n",
      "The Boston house-price data of Harrison, D. and Rubinfeld, D.L. 'Hedonic\n",
      "prices and the demand for clean air', J. Environ. Economics & Management,\n",
      "vol.5, 81-102, 1978.   Used in Belsley, Kuh & Welsch, 'Regression diagnostics\n",
      "...', Wiley, 1980.   N.B. Various transformations are used in the table on\n",
      "pages 244-261 of the latter.\n",
      "\n",
      "The Boston house-price data has been used in many machine learning papers that address regression\n",
      "problems.   \n",
      "     \n",
      ".. topic:: References\n",
      "\n",
      "   - Belsley, Kuh & Welsch, 'Regression diagnostics: Identifying Influential Data and Sources of Collinearity', Wiley, 1980. 244-261.\n",
      "   - Quinlan,R. (1993). Combining Instance-Based and Model-Based Learning. In Proceedings on the Tenth International Conference of Machine Learning, 236-243, University of Massachusetts, Amherst. Morgan Kaufmann.\n",
      "\n"
     ]
    },
    {
     "name": "stderr",
     "output_type": "stream",
     "text": [
      "C:\\Users\\bharo\\anaconda3\\lib\\site-packages\\sklearn\\utils\\deprecation.py:87: FutureWarning: Function load_boston is deprecated; `load_boston` is deprecated in 1.0 and will be removed in 1.2.\n",
      "\n",
      "    The Boston housing prices dataset has an ethical problem. You can refer to\n",
      "    the documentation of this function for further details.\n",
      "\n",
      "    The scikit-learn maintainers therefore strongly discourage the use of this\n",
      "    dataset unless the purpose of the code is to study and educate about\n",
      "    ethical issues in data science and machine learning.\n",
      "\n",
      "    In this special case, you can fetch the dataset from the original\n",
      "    source::\n",
      "\n",
      "        import pandas as pd\n",
      "        import numpy as np\n",
      "\n",
      "\n",
      "        data_url = \"http://lib.stat.cmu.edu/datasets/boston\"\n",
      "        raw_df = pd.read_csv(data_url, sep=\"\\s+\", skiprows=22, header=None)\n",
      "        data = np.hstack([raw_df.values[::2, :], raw_df.values[1::2, :2]])\n",
      "        target = raw_df.values[1::2, 2]\n",
      "\n",
      "    Alternative datasets include the California housing dataset (i.e.\n",
      "    :func:`~sklearn.datasets.fetch_california_housing`) and the Ames housing\n",
      "    dataset. You can load the datasets as follows::\n",
      "\n",
      "        from sklearn.datasets import fetch_california_housing\n",
      "        housing = fetch_california_housing()\n",
      "\n",
      "    for the California housing dataset and::\n",
      "\n",
      "        from sklearn.datasets import fetch_openml\n",
      "        housing = fetch_openml(name=\"house_prices\", as_frame=True)\n",
      "\n",
      "    for the Ames housing dataset.\n",
      "    \n",
      "  warnings.warn(msg, category=FutureWarning)\n"
     ]
    },
    {
     "data": {
      "text/plain": [
       "Text(0, 0.5, 'nitric oxides concentration (parts per 10 million)')"
      ]
     },
     "execution_count": 5,
     "metadata": {},
     "output_type": "execute_result"
    },
    {
     "data": {
      "image/png": "[encoded data removed]",
      "text/plain": [
       "<Figure size 640x480 with 1 Axes>"
      ]
     },
     "metadata": {},
     "output_type": "display_data"
    }
   ],
   "source": [
    "import numpy as np\n",
    "from sklearn.datasets import load_boston\n",
    "from matplotlib import pyplot as plt\n",
    "\n",
    "#3 boston dataset\n",
    "boston = load_boston()\n",
    "data = boston.data\n",
    "\n",
    "# print description\n",
    "print(boston.DESCR)\n",
    "\n",
    "# plot chart\n",
    "plt.plot(data[:,2], data[:,4], \"g+\") # x,y axis data and + mark\n",
    "plt.title(\"Boston Dataset\")\n",
    "plt.xlabel(\"proportion of non-retail business acres per town\")\n",
    "plt.ylabel(\"nitric oxides concentration (parts per 10 million)\")\n"
   ]
  },
  {
   "cell_type": "markdown",
   "id": "ae956a22",
   "metadata": {},
   "source": [
    "## Create a multi-dimensional array (Hint: See GitHub repo for the book, Chapter02 > ch-02.ipynb – make sure you include comments in your code)."
   ]
  },
  {
   "cell_type": "code",
   "execution_count": 6,
   "id": "dc13ac6f",
   "metadata": {},
   "outputs": [
    {
     "name": "stdout",
     "output_type": "stream",
     "text": [
      "<class 'numpy.ndarray'>\n",
      "int32\n",
      "[[0 1 2]\n",
      " [0 1 2]]\n"
     ]
    }
   ],
   "source": [
    "#multi-dimensional array\n",
    "array_np = np.array([np.arange(3), np.arange(3)])\n",
    "\n",
    "\n",
    "print(type(array_np)) # object data type\n",
    "\n",
    "print(array_np.dtype) # print element data type\n",
    "\n",
    "print(array_np)"
   ]
  },
  {
   "cell_type": "markdown",
   "id": "a23672bc",
   "metadata": {},
   "source": [
    "## Produce an array of single precision floats (Hint: See GitHub repo for the book, Chapter02 > ch-02.ipynb – make sure you include comments in your code)."
   ]
  },
  {
   "cell_type": "code",
   "execution_count": 7,
   "id": "69cf9d80",
   "metadata": {},
   "outputs": [
    {
     "name": "stdout",
     "output_type": "stream",
     "text": [
      "float32\n",
      "[0. 1. 2. 3.]\n"
     ]
    }
   ],
   "source": [
    "#single precision float array\n",
    "np_float = np.arange(4, dtype='f')\n",
    "print(np_float.dtype)\n",
    "print(np_float)"
   ]
  },
  {
   "cell_type": "markdown",
   "id": "90e8908f",
   "metadata": {},
   "source": [
    "## Produce an array of complex numbers (Hint: See GitHub repo for the book, Chapter02 > ch-02.ipynb – make sure you include comments in your code)."
   ]
  },
  {
   "cell_type": "code",
   "execution_count": 8,
   "id": "bd1ea606",
   "metadata": {},
   "outputs": [
    {
     "name": "stdout",
     "output_type": "stream",
     "text": [
      "[0.+0.j 1.+0.j 2.+0.j 3.+0.j 4.+0.j 5.+0.j 6.+0.j 7.+0.j 8.+0.j]\n"
     ]
    }
   ],
   "source": [
    "np_complex = np.arange(9, dtype='D')\n",
    "print(np_complex)\n"
   ]
  },
  {
   "cell_type": "markdown",
   "id": "d2b0a924",
   "metadata": {},
   "source": [
    "## Define an array containing the numbers 0, 1, 2, and so on up to and including 8. Select a part of the array from indexes 3 to 7, which extract the elements of the arrays 3 through 6. Choose elements from an index of 0 to 7 with an increment of 2. Then reverse the array (Hint: See GitHub repo for the book, Chapter02 > ch-02.ipynb – make sure you include comments in your code)."
   ]
  },
  {
   "cell_type": "code",
   "execution_count": 9,
   "id": "e90c2189",
   "metadata": {},
   "outputs": [
    {
     "name": "stdout",
     "output_type": "stream",
     "text": [
      "[0 1 2 3 4 5 6 7 8]\n",
      "[3 4 5 6]\n",
      "[0 2 4 6]\n",
      "[8 7 6 5 4 3 2 1 0]\n"
     ]
    }
   ],
   "source": [
    "#array slicing\n",
    "array_index = np.arange(9)\n",
    "\n",
    "# output number index 3 to 7\n",
    "index3_7 = array_index[3:7]\n",
    "\n",
    "# skip index\n",
    "index0_7_skip = array_index[0:7:2]\n",
    "\n",
    "# reverse array\n",
    "reverse_array = array_index[::-1]\n",
    "\n",
    "print(array_index)\n",
    "print(index3_7)\n",
    "print(index0_7_skip)\n",
    "print(reverse_array)\n"
   ]
  },
  {
   "cell_type": "markdown",
   "id": "e27e28af",
   "metadata": {},
   "source": [
    "## Starting on page 34 of your text, create an array and perform the following functions (Hint: See GitHub repo for the book, Chapter02 > ch-02.ipynb – make sure you include comments in your code): Rave, Flatten, Setting the shape with a tuple, Transpose, Resize\n"
   ]
  },
  {
   "cell_type": "code",
   "execution_count": 39,
   "id": "7183f30d",
   "metadata": {},
   "outputs": [
    {
     "name": "stdout",
     "output_type": "stream",
     "text": [
      "[ 0  1  2  3  4  5  6  7  8  9 10 11]\n",
      "[ 0  1  2  3  4  5  6  7  8  9 10 11]\n",
      "[[ 0  1]\n",
      " [ 2  3]\n",
      " [ 4  5]\n",
      " [ 6  7]\n",
      " [ 8  9]\n",
      " [10 11]]\n",
      "[[ 0  2  4  6  8 10]\n",
      " [ 1  3  5  7  9 11]]\n",
      "[[ 0  1  2  3  4  5]\n",
      " [ 6  7  8  9 10 11]]\n"
     ]
    }
   ],
   "source": [
    "# create 3 by 4 array\n",
    "array_int = np.arange (12, dtype= 'int').reshape(3,4)\n",
    "\n",
    "# rave\n",
    "array_rave = array_int.ravel()\n",
    "\n",
    "# Flatten\n",
    "array_flatten = array_int.flatten()\n",
    "\n",
    "#setting the shape with a tuple\n",
    "array_int.shape = (6,2)\n",
    "\n",
    "# Transpose\n",
    "array_transpose = array_int.transpose()\n",
    "\n",
    "# resize\n",
    "array_resize = np.resize(array_int, (2,6))\n",
    "\n",
    "print (array_rave)\n",
    "print(array_flatten)\n",
    "print (array_int)\n",
    "print (array_transpose)\n",
    "print (array_resize)"
   ]
  },
  {
   "cell_type": "markdown",
   "id": "d9e4e275",
   "metadata": {},
   "source": [
    "## Starting on page 41 of your text, create an array and find the following properties (Hint: See GitHub repo for the book, Chapter02 > ch-02.ipynb – make sure you include comments in your code): Number of dimensions, Count of elements, Count of bytes, Full count of bytes"
   ]
  },
  {
   "cell_type": "code",
   "execution_count": 53,
   "id": "3784488a",
   "metadata": {},
   "outputs": [
    {
     "name": "stdout",
     "output_type": "stream",
     "text": [
      "3\n",
      "24\n",
      "4\n",
      "96\n"
     ]
    }
   ],
   "source": [
    "\n",
    "# creating array\n",
    "arr = np.arange( 24, dtype = 'f').reshape(3,4,2)\n",
    "\n",
    "# number of dimentions\n",
    "arr_dimen = arr.ndim\n",
    "\n",
    "# count of elements\n",
    "arr_size = arr.size\n",
    "\n",
    "#count of bytes\n",
    "arr_bytes = arr.itemsize\n",
    "\n",
    "# full count of bytes\n",
    "arr_fullbytes = arr.nbytes # nbytes is the product of size and itemsize\n",
    "\n",
    "print(arr_dimen)\n",
    "print(arr_size)\n",
    "print(arr_bytes)\n",
    "print(arr_fullbytes)\n",
    "\n",
    "\n"
   ]
  },
  {
   "cell_type": "markdown",
   "id": "cec3b077",
   "metadata": {},
   "source": [
    "## Starting on page 45 of your text, convert an array to a Python list (Hint: See GitHub repo for the book, Chapter02 > ch-02.ipynb – make sure you include comments in your code)."
   ]
  },
  {
   "cell_type": "code",
   "execution_count": 55,
   "id": "f6c42f6f",
   "metadata": {},
   "outputs": [
    {
     "name": "stdout",
     "output_type": "stream",
     "text": [
      "[[[0.0, 1.0], [2.0, 3.0], [4.0, 5.0], [6.0, 7.0]], [[8.0, 9.0], [10.0, 11.0], [12.0, 13.0], [14.0, 15.0]], [[16.0, 17.0], [18.0, 19.0], [20.0, 21.0], [22.0, 23.0]]]\n"
     ]
    }
   ],
   "source": [
    "# creating array\n",
    "arr = np.arange( 24, dtype = 'f').reshape(3,4,2)\n",
    "# convert arr to list\n",
    "list = arr.tolist()\n",
    "print (list)"
   ]
  }
 ],
 "metadata": {
  "kernelspec": {
   "display_name": "Python 3 (ipykernel)",
   "language": "python",
   "name": "python3"
  },
  "language_info": {
   "codemirror_mode": {
    "name": "ipython",
    "version": 3
   },
   "file_extension": ".py",
   "mimetype": "text/x-python",
   "name": "python",
   "nbconvert_exporter": "python",
   "pygments_lexer": "ipython3",
   "version": "3.9.13"
  }
 },
 "nbformat": 4,
 "nbformat_minor": 5
}
